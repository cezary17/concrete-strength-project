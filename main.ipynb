{
 "cells": [
  {
   "cell_type": "markdown",
   "metadata": {},
   "source": [
    "# A short analysis of the compressive strength of concrete. \n",
    "> Dataset from https://www.kaggle.com/datasets/sinamhd9/concrete-comprehensive-strength"
   ]
  },
  {
   "cell_type": "code",
   "execution_count": null,
   "metadata": {},
   "outputs": [],
   "source": [
    "import pandas as pd\n",
    "import numpy as np\n",
    "import seaborn as sns\n",
    "sns.set_style(\"darkgrid\", {\"axes.facecolor\": \".95\"})\n",
    "import matplotlib.pyplot as plt\n",
    "%matplotlib inline\n",
    "import warnings\n",
    "warnings.simplefilter(action='ignore', category=FutureWarning)\n",
    "\n",
    "from sklearn.linear_model import LinearRegression, Lasso, Ridge\n",
    "from sklearn.ensemble import RandomForestRegressor\n",
    "from sklearn.model_selection import cross_val_score\n",
    "from sklearn.feature_selection import mutual_info_regression\n",
    "from sklearn.preprocessing import StandardScaler\n",
    "from sklearn.pipeline import Pipeline\n",
    "from xgboost import XGBRegressor\n",
    "\n",
    "from timeit import default_timer as timer\n",
    "\n",
    "import xml.etree.ElementTree as ET\n",
    "from xml.dom import minidom\n",
    "import os\n",
    "import io\n",
    "from datetime import datetime"
   ]
  },
  {
   "cell_type": "code",
   "execution_count": null,
   "metadata": {},
   "outputs": [],
   "source": [
    "%pip install xlwt"
   ]
  },
  {
   "cell_type": "markdown",
   "metadata": {},
   "source": [
    "### Exploratory Data Analysis"
   ]
  },
  {
   "cell_type": "code",
   "execution_count": null,
   "metadata": {},
   "outputs": [],
   "source": [
    "df = pd.read_excel('data/Concrete_Data.xls')\n",
    "df.info()"
   ]
  },
  {
   "cell_type": "markdown",
   "metadata": {},
   "source": [
    "##### Save df.info() for documentation purposes"
   ]
  },
  {
   "cell_type": "code",
   "execution_count": null,
   "metadata": {},
   "outputs": [],
   "source": [
    "buffer = io.StringIO()\n",
    "df.info(buf=buffer)\n",
    "s = buffer.getvalue()\n",
    "\n",
    "with open(os.path.join(\"./Metadata/\", (\"df_info.txt\")), \"w\", encoding=\"utf-8\") as f:  \n",
    "    f.write(s)\n"
   ]
  },
  {
   "cell_type": "code",
   "execution_count": null,
   "metadata": {},
   "outputs": [],
   "source": [
    "df.hist(bins=50, figsize=(18,12))\n",
    "plt.show()"
   ]
  },
  {
   "cell_type": "markdown",
   "metadata": {},
   "source": [
    "##### Transform column names for more ease of use"
   ]
  },
  {
   "cell_type": "code",
   "execution_count": null,
   "metadata": {},
   "outputs": [],
   "source": [
    "old_columns = df.columns\n",
    "\n",
    "df.columns = ['cement', 'slag', 'ash', 'water', 'superplasticizer', 'coarse_agg', 'fine_agg', 'age', 'strength']"
   ]
  },
  {
   "cell_type": "code",
   "execution_count": null,
   "metadata": {},
   "outputs": [],
   "source": [
    "plt.figure(figsize=(18, 12))\n",
    "plt.title('Average correlation of features')\n",
    "sns.heatmap(df.corr(), annot=True, cmap='coolwarm_r')\n",
    "plt.show()"
   ]
  },
  {
   "cell_type": "code",
   "execution_count": null,
   "metadata": {},
   "outputs": [],
   "source": [
    "df.corr()['strength'].sort_values(ascending=False)"
   ]
  },
  {
   "cell_type": "code",
   "execution_count": null,
   "metadata": {},
   "outputs": [],
   "source": [
    "columns = df.columns.drop(['strength'])\n",
    "\n",
    "for i in range(len(columns)):\n",
    "    sns.jointplot(x=columns[i],\n",
    "                  y='strength',\n",
    "                  data=df,\n",
    "                  kind='reg',\n",
    "                  color=sns.color_palette(\"Paired\", 8)[i])\n",
    "    \n",
    "plt.show()"
   ]
  },
  {
   "cell_type": "markdown",
   "metadata": {},
   "source": [
    "#### Feature engineering"
   ]
  },
  {
   "cell_type": "code",
   "execution_count": null,
   "metadata": {},
   "outputs": [],
   "source": [
    "def calc_mi_scores(X, y):\n",
    "    mi_scores = mutual_info_regression(X, y)\n",
    "    mi_scores = pd.Series(mi_scores, name=\"MI Scores\", index = X.columns)\n",
    "    mi_scores = mi_scores.sort_values(ascending=False)\n",
    "    return mi_scores"
   ]
  },
  {
   "cell_type": "code",
   "execution_count": null,
   "metadata": {},
   "outputs": [],
   "source": [
    "fe_df = df.copy()\n",
    "\n",
    "fe_df['total'] = df.drop(['strength'], axis=1).sum(axis=1)\n",
    "\n",
    "fe_df['cement_root'] = (fe_df['slag'] + fe_df['ash'] + fe_df['coarse_agg'] + fe_df['fine_agg']) / fe_df['total']\t\n",
    "\n",
    "fe_df['water_ratio'] = fe_df['water'] / fe_df['total']\n",
    "\n",
    "fe_df['age_root'] = np.sqrt(fe_df['age'])\n",
    "\n",
    "fe_df['super_used'] = df['superplasticizer'].map(lambda l: 1 if l > 0 else 0)\n",
    "\n",
    "fe_df.head()"
   ]
  },
  {
   "cell_type": "markdown",
   "metadata": {},
   "source": [
    "#### MI-Scores of the feature engineered and non feature engieered datasets"
   ]
  },
  {
   "cell_type": "code",
   "execution_count": null,
   "metadata": {},
   "outputs": [],
   "source": [
    "fe_X = fe_df.drop(['strength'], axis=1)\n",
    "fe_y = fe_df['strength']\n",
    "\n",
    "nofe_X = df.drop(['strength'], axis=1)\n",
    "nofe_y = df['strength']\n",
    "\n",
    "mi_scores = pd.DataFrame({'No FE': calc_mi_scores(nofe_X, nofe_y), 'FE': calc_mi_scores(fe_X, fe_y)})\n",
    "mi_scores = mi_scores.sort_values(by='FE', ascending=False)\n",
    "mi_scores"
   ]
  },
  {
   "cell_type": "markdown",
   "metadata": {},
   "source": [
    "#### Model tester using cross-validation"
   ]
  },
  {
   "cell_type": "code",
   "execution_count": null,
   "metadata": {},
   "outputs": [],
   "source": [
    "def model_tester(df, models):\n",
    "    results = {\"ModelName\" : [], \"MeanCVScore\" : [], \"StdCVScore\" : []}\n",
    "    for i in range(len(models)):\n",
    "        start = timer()\n",
    "        \n",
    "        X = df.drop('strength', axis=1)\n",
    "        y = df['strength']\n",
    "        scaler = StandardScaler()\n",
    "        model = models[i]\n",
    "        \n",
    "        steps = [('scaler', scaler), ('regressor', model)]\n",
    "        pipeline = Pipeline(steps)\n",
    "        \n",
    "        cv_results = cross_val_score(pipeline, X, y, cv=10)\n",
    "        \n",
    "        end = timer()\n",
    "        \n",
    "        print(f'{model.__class__.__name__} CV score: {cv_results.mean():.4f} +/- {cv_results.std():.4f} Time: {(end - start):.2f}s')\n",
    "        \n",
    "        results[\"ModelName\"].append(model.__class__.__name__)\n",
    "        results[\"MeanCVScore\"].append(cv_results.mean())\n",
    "        results[\"StdCVScore\"].append(cv_results.std())\n",
    "        \n",
    "    return results"
   ]
  },
  {
   "cell_type": "markdown",
   "metadata": {},
   "source": [
    "#### No feature engineering Linear Regression"
   ]
  },
  {
   "cell_type": "code",
   "execution_count": null,
   "metadata": {},
   "outputs": [],
   "source": [
    "X = df.drop('strength', axis=1)\n",
    "y = df['strength']\n",
    "\n",
    "model = LinearRegression()\n",
    "scaler = StandardScaler()\n",
    "steps = [('scaler', scaler), ('regressor', model)]\n",
    "pipeline = Pipeline(steps)\n",
    "\n",
    "cv_results = cross_val_score(pipeline, X, y, cv=5)\n",
    "print(cv_results)\n",
    "np.mean(cv_results)"
   ]
  },
  {
   "cell_type": "markdown",
   "metadata": {},
   "source": [
    "#### Testing different models on feature engineered data"
   ]
  },
  {
   "cell_type": "code",
   "execution_count": null,
   "metadata": {},
   "outputs": [],
   "source": [
    "constant_state = 42\n",
    "\n",
    "models = [LinearRegression(n_jobs=-1),\n",
    "          Lasso(max_iter=1000, alpha=0.1, random_state=constant_state), \n",
    "          Ridge(alpha=0.05, random_state=constant_state),\n",
    "          XGBRegressor(n_estimators=500, learning_rate=0.1, n_jobs=-1, random_state=constant_state),\n",
    "          RandomForestRegressor(n_estimators=500, n_jobs=-1, random_state=constant_state),\n",
    "          ]\n",
    "\n",
    "results = model_tester(fe_df.sample(frac=1), models)\n",
    "\n",
    "results_df = pd.DataFrame(results)\n",
    "\n",
    "\n",
    "plt.figure(figsize=(12, 8))\n",
    "plt.title('Average CV score of different models')\n",
    "ax = sns.barplot(x='ModelName', y='MeanCVScore', data=results_df)\n",
    "ax.set(xlabel='Model', ylabel='Mean CV Score', ylim=(0, 1))\n",
    "plt.show()"
   ]
  },
  {
   "cell_type": "markdown",
   "metadata": {},
   "source": [
    "#### Exporting feature engineered data"
   ]
  },
  {
   "cell_type": "code",
   "execution_count": null,
   "metadata": {},
   "outputs": [],
   "source": [
    "fe_df.to_excel('data/FE_Concrete_Data.xls', sheet_name='FE_Concrete_Data')\n",
    "fe_df.to_csv('data/FE_Concrete_Data.csv')"
   ]
  },
  {
   "cell_type": "markdown",
   "metadata": {},
   "source": [
    "#### Creating metadata for our data"
   ]
  },
  {
   "cell_type": "code",
   "execution_count": null,
   "metadata": {},
   "outputs": [],
   "source": [
    "def GenerateXML(filename=\"export\", path=\"./Metadata/\", metadata={\"id\": 1, \"name\": \"test\", \"date\": datetime.today().strftime('%d-%m-%Y')}):\n",
    "    \n",
    "    root = ET.Element(\"doc\")\n",
    "    \n",
    "    for key in metadata.keys():\n",
    "        entry = ET.SubElement(root, key)\n",
    "        entry.text = str(metadata[key])\n",
    "    \n",
    "    xmlstr = minidom.parseString(ET.tostring(root)).toprettyxml(indent=\"   \")\n",
    "    \n",
    "    with open (os.path.join(path, (filename + \".xml\")), \"wb\") as f:\n",
    "        print(f\"XML generated at path: {path} as: {filename}.xml\")\n",
    "        f.write(xmlstr.encode('utf-8'))"
   ]
  },
  {
   "cell_type": "code",
   "execution_count": 101,
   "metadata": {},
   "outputs": [
    {
     "name": "stdout",
     "output_type": "stream",
     "text": [
      "XML generated at path: ./Metadata/ as: export.xml\n"
     ]
    }
   ],
   "source": [
    "my_metadata = {\n",
    "    \"id\": 42,\n",
    "    \"name\": \"Ryland Grace\",\n",
    "    \"institute\": \"HU Berlin\",\n",
    "    \"date_published\": datetime.today().strftime('%d-%m-%Y'),\n",
    "    \"PID\": \"123-456-789\"\n",
    "}\n",
    "\n",
    "GenerateXML(metadata=my_metadata)"
   ]
  }
 ],
 "metadata": {
  "kernelspec": {
   "display_name": "Python 3.10.5 ('sklearn-env')",
   "language": "python",
   "name": "python3"
  },
  "language_info": {
   "codemirror_mode": {
    "name": "ipython",
    "version": 3
   },
   "file_extension": ".py",
   "mimetype": "text/x-python",
   "name": "python",
   "nbconvert_exporter": "python",
   "pygments_lexer": "ipython3",
   "version": "3.10.4"
  },
  "orig_nbformat": 4,
  "vscode": {
   "interpreter": {
    "hash": "8f887bcd234464783ee13182c02ebbb8cc68ab94ebb94fdfc49a0f0ced571bfe"
   }
  }
 },
 "nbformat": 4,
 "nbformat_minor": 2
}
